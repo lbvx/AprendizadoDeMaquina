{
 "cells": [
  {
   "cell_type": "code",
   "execution_count": null,
   "metadata": {},
   "outputs": [],
   "source": [
    "# from fastai import *\n",
    "# from fastbook import *\n",
    "from fastai.vision.all import *\n",
    "import os"
   ]
  },
  {
   "cell_type": "code",
   "execution_count": null,
   "metadata": {},
   "outputs": [],
   "source": [
    "labels = dict()\n",
    "\n",
    "files = ['ip102/train.txt', 'ip102/val.txt', 'ip102/test.txt']\n",
    "for fl in files:\n",
    "    with open(fl, 'r') as f:\n",
    "        line = f.readline()\n",
    "        while line != '':\n",
    "            line = line.split(' ')\n",
    "            labels[line[0]] = int(line[1])\n",
    "            line = f.readline()\n",
    "\n",
    "def get_label(filename):\n",
    "    return labels[filename]\n",
    "\n",
    "fnames = [Path(os.path.join('ip102', 'images', i)) for i in os.listdir('ip102/images')]\n",
    "\n",
    "classes = dict()\n",
    "with open('ip102/classes.txt', 'r') as f:\n",
    "    line = f.readline()\n",
    "    while line != '':\n",
    "        line = line.split(' ', )\n",
    "        # print(line[1:])\n",
    "        classes[int(line[0]) - 1] = ' '.join(line[1:]).strip()\n",
    "        line = f.readline()\n",
    "\n",
    "\n",
    "# labels\n",
    "len(labels)\n",
    "# fnames\n",
    "# classes"
   ]
  },
  {
   "cell_type": "code",
   "execution_count": null,
   "metadata": {},
   "outputs": [],
   "source": [
    "dls = ImageDataLoaders.from_name_func(\n",
    "    'models/',\n",
    "    fnames=fnames,\n",
    "    label_func=get_label,\n",
    "    item_tfms=Resize(224),\n",
    "    valid_pct=0.2\n",
    "    )"
   ]
  },
  {
   "cell_type": "code",
   "execution_count": null,
   "metadata": {},
   "outputs": [],
   "source": [
    "dls.show_batch()"
   ]
  }
 ],
 "metadata": {
  "kernelspec": {
   "display_name": "Python 3.10.5 ('fastbook')",
   "language": "python",
   "name": "python3"
  },
  "language_info": {
   "codemirror_mode": {
    "name": "ipython",
    "version": 3
   },
   "file_extension": ".py",
   "mimetype": "text/x-python",
   "name": "python",
   "nbconvert_exporter": "python",
   "pygments_lexer": "ipython3",
   "version": "3.10.5"
  },
  "orig_nbformat": 4,
  "vscode": {
   "interpreter": {
    "hash": "28522a5340573c4173df79e4a81f7d4b0e5a110ed8bef5c1e6a1c0aee6dbc111"
   }
  }
 },
 "nbformat": 4,
 "nbformat_minor": 2
}
